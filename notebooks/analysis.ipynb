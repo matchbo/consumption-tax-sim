{
 "cells": [
  {
   "cell_type": "code",
   "execution_count": null,
   "metadata": {},
   "outputs": [],
   "source": [
    "import pandas as pd\n",
    "import matplotlib.pyplot as plt\n",
    "import seaborn as sns"
   ]
  },
  {
   "cell_type": "code",
   "execution_count": null,
   "metadata": {},
   "outputs": [],
   "source": [
    "# Load the data\n",
    "scenario_1_data = pd.read_csv(\"../data/scenario_1_results.csv\")\n",
    "scenario_2_data = pd.read_csv(\"../data/scenario_2_results.csv\")"
   ]
  },
  {
   "cell_type": "code",
   "execution_count": null,
   "metadata": {},
   "outputs": [],
   "source": [
    "# Plot Total Welfare over time\n",
    "plt.figure(figsize=(12, 6))\n",
    "plt.plot(scenario_1_data['Total_Welfare'], label='Scenario 1: Price Increase')\n",
    "plt.plot(scenario_2_data['Total_Welfare'], label='Scenario 2: Awareness Campaign')\n",
    "plt.title('Total Welfare Over Time')\n",
    "plt.xlabel('Years')\n",
    "plt.ylabel('Total Welfare')\n",
    "plt.legend()\n",
    "plt.show()"
   ]
  },
  {
   "cell_type": "code",
   "execution_count": null,
   "metadata": {},
   "outputs": [],
   "source": [
    "# Plot Average Price over time\n",
    "plt.figure(figsize=(12, 6))\n",
    "plt.plot(scenario_1_data['Average_Price'], label='Scenario 1: Price Increase')\n",
    "plt.plot(scenario_2_data['Average_Price'], label='Scenario 2: Awareness Campaign')\n",
    "plt.title('Average Price Over Time')\n",
    "plt.xlabel('Years')\n",
    "plt.ylabel('Average Price')\n",
    "plt.legend()\n",
    "plt.show()"
   ]
  },
  {
   "cell_type": "code",
   "execution_count": null,
   "metadata": {},
   "outputs": [],
   "source": [
    "# Plot Average Provenance Scores over time\n",
    "fig, ax = plt.subplots(figsize=(12, 6))\n",
    "sns.heatmap(scenario_1_data[['Average_Provenance_0', 'Average_Provenance_1', 'Average_Provenance_2', 'Average_Provenance_3', 'Average_Provenance_4']], \n",
    "            cmap='RdYlGn', center=0, ax=ax)\n",
    "plt.title('Average Provenance Scores Over Time (Scenario 1)')\n",
    "plt.show()"
   ]
  },
  {
   "cell_type": "code",
   "execution_count": null,
   "metadata": {},
   "outputs": [],
   "source": [
    "fig, ax = plt.subplots(figsize=(12, 6))\n",
    "sns.heatmap(scenario_2_data[['Average_Provenance_0', 'Average_Provenance_1', 'Average_Provenance_2', 'Average_Provenance_3', 'Average_Provenance_4']], \n",
    "            cmap='RdYlGn', center=0, ax=ax)\n",
    "plt.title('Average Provenance Scores Over Time (Scenario 2)')\n",
    "plt.show()"
   ]
  }
 ],
 "metadata": {
  "language_info": {
   "name": "python"
  }
 },
 "nbformat": 4,
 "nbformat_minor": 2
}
